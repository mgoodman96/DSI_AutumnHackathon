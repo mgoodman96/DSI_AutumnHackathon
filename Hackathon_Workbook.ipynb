{
 "cells": [
  {
   "cell_type": "code",
   "execution_count": 14,
   "id": "415e4793-21c0-460d-9e98-3c5e1e7485d2",
   "metadata": {},
   "outputs": [],
   "source": [
    "from pyensign.events import Event\n",
    "from pyensign.ensign import Ensign\n",
    "import pandas as pd\n",
    "import requests\n",
    "import json\n",
    "from sodapy import Socrata\n",
    "from datetime import datetime\n",
    "from datetime import date\n",
    "from dateutil.relativedelta import relativedelta\n",
    "from cdp_secrets import *"
   ]
  },
  {
   "cell_type": "code",
   "execution_count": 15,
   "id": "f585f772-0eae-4088-b4c8-f79a94b4f23d",
   "metadata": {},
   "outputs": [],
   "source": [
    "#Constants\n",
    "chicago_url=\"data.cityofchicago.org\"\n",
    "crash_api_root=\"85ca-t3if\"\n",
    "\n",
    "#Chicago Data Portal Connection\n",
    "cdp = Socrata(chicago_url,\n",
    "                 token,\n",
    "                 username,\n",
    "                 password)"
   ]
  },
  {
   "cell_type": "code",
   "execution_count": 16,
   "id": "f79057ba-9352-4f55-9c3d-63e8814fcb9b",
   "metadata": {},
   "outputs": [
    {
     "name": "stdout",
     "output_type": "stream",
     "text": [
      "2023-10-10\n",
      "2022-10-10\n"
     ]
    }
   ],
   "source": [
    "#Get dates for the last 12 months\n",
    "today = datetime.now().strftime(\"%Y-%m-%d\")\n",
    "\n",
    "year_ago = (datetime.now() - relativedelta(years=1)).strftime(\"%Y-%m-%d\")\n",
    "print(today)\n",
    "print(year_ago)"
   ]
  },
  {
   "cell_type": "code",
   "execution_count": 17,
   "id": "e98a3f44-5864-4f07-977a-bca5f9034b0e",
   "metadata": {},
   "outputs": [],
   "source": [
    "def callAPI(root: str, filter: str) -> pd.DataFrame:\n",
    "    results=cdp.get(root, query=filter)\n",
    "    df=pd.DataFrame.from_records(results)\n",
    "    return df"
   ]
  },
  {
   "cell_type": "code",
   "execution_count": 18,
   "id": "e741c9c3-9710-4605-9352-c62aaf9554a5",
   "metadata": {},
   "outputs": [],
   "source": [
    "#limit required for SoQL query, as we are filtering for one year limit is set high to capture all records\n",
    "limit='1000000000'\n",
    "crash_filter=\"\"\"Select crash_record_id,crash_date,beat_of_occurrence as beat_num,crash_month,crash_day_of_week,location\n",
    "                where crash_date between '%s' and '%s' limit %s\"\"\"% (year_ago,today,limit)"
   ]
  },
  {
   "cell_type": "code",
   "execution_count": 20,
   "id": "14b49ed8-0c49-43d2-93c4-5ffc5f1be77a",
   "metadata": {},
   "outputs": [
    {
     "name": "stdout",
     "output_type": "stream",
     "text": [
      "completed at 2023-10-10 17:39:40.126527\n"
     ]
    }
   ],
   "source": [
    "#Crash Table\n",
    "crash_df=callAPI(crash_api_root,crash_filter)\n",
    "\n",
    "print('completed at ' + str(datetime.now()))"
   ]
  },
  {
   "cell_type": "code",
   "execution_count": 21,
   "id": "4377f825-058c-4e57-9a72-31ab7a07f36d",
   "metadata": {},
   "outputs": [
    {
     "data": {
      "text/html": [
       "<div>\n",
       "<style scoped>\n",
       "    .dataframe tbody tr th:only-of-type {\n",
       "        vertical-align: middle;\n",
       "    }\n",
       "\n",
       "    .dataframe tbody tr th {\n",
       "        vertical-align: top;\n",
       "    }\n",
       "\n",
       "    .dataframe thead th {\n",
       "        text-align: right;\n",
       "    }\n",
       "</style>\n",
       "<table border=\"1\" class=\"dataframe\">\n",
       "  <thead>\n",
       "    <tr style=\"text-align: right;\">\n",
       "      <th></th>\n",
       "      <th>crash_record_id</th>\n",
       "      <th>crash_date</th>\n",
       "      <th>beat_num</th>\n",
       "      <th>crash_month</th>\n",
       "      <th>crash_day_of_week</th>\n",
       "      <th>location</th>\n",
       "    </tr>\n",
       "  </thead>\n",
       "  <tbody>\n",
       "    <tr>\n",
       "      <th>0</th>\n",
       "      <td>9f1e2de5e81b78aa98488b4438d5302f4b4d356409868a...</td>\n",
       "      <td>2023-10-09T22:56:00.000</td>\n",
       "      <td>2531</td>\n",
       "      <td>10</td>\n",
       "      <td>2</td>\n",
       "      <td>{'type': 'Point', 'coordinates': [-87.76648206...</td>\n",
       "    </tr>\n",
       "    <tr>\n",
       "      <th>1</th>\n",
       "      <td>1ef65fe3b4916b9f4ccb4779b2da2b9bea1367c9e987ba...</td>\n",
       "      <td>2023-10-09T21:00:00.000</td>\n",
       "      <td>814</td>\n",
       "      <td>10</td>\n",
       "      <td>2</td>\n",
       "      <td>{'type': 'Point', 'coordinates': [-87.76230729...</td>\n",
       "    </tr>\n",
       "    <tr>\n",
       "      <th>2</th>\n",
       "      <td>86200eaa8c689f679512b313ce8767da869e8eb84ea2d9...</td>\n",
       "      <td>2023-10-09T20:17:00.000</td>\n",
       "      <td>1133</td>\n",
       "      <td>10</td>\n",
       "      <td>2</td>\n",
       "      <td>{'type': 'Point', 'coordinates': [-87.71955940...</td>\n",
       "    </tr>\n",
       "    <tr>\n",
       "      <th>3</th>\n",
       "      <td>8ca53301cb1917f37f0dd95c91fed654bc860ceb240b05...</td>\n",
       "      <td>2023-10-09T19:35:00.000</td>\n",
       "      <td>121</td>\n",
       "      <td>10</td>\n",
       "      <td>2</td>\n",
       "      <td>{'type': 'Point', 'coordinates': [-87.63958775...</td>\n",
       "    </tr>\n",
       "    <tr>\n",
       "      <th>4</th>\n",
       "      <td>a3029f56c4b9d9a4944ff2ffdcb1c631ef90d7212363c8...</td>\n",
       "      <td>2023-10-09T19:30:00.000</td>\n",
       "      <td>2535</td>\n",
       "      <td>10</td>\n",
       "      <td>2</td>\n",
       "      <td>{'type': 'Point', 'coordinates': [-87.72145164...</td>\n",
       "    </tr>\n",
       "  </tbody>\n",
       "</table>\n",
       "</div>"
      ],
      "text/plain": [
       "                                     crash_record_id               crash_date  \\\n",
       "0  9f1e2de5e81b78aa98488b4438d5302f4b4d356409868a...  2023-10-09T22:56:00.000   \n",
       "1  1ef65fe3b4916b9f4ccb4779b2da2b9bea1367c9e987ba...  2023-10-09T21:00:00.000   \n",
       "2  86200eaa8c689f679512b313ce8767da869e8eb84ea2d9...  2023-10-09T20:17:00.000   \n",
       "3  8ca53301cb1917f37f0dd95c91fed654bc860ceb240b05...  2023-10-09T19:35:00.000   \n",
       "4  a3029f56c4b9d9a4944ff2ffdcb1c631ef90d7212363c8...  2023-10-09T19:30:00.000   \n",
       "\n",
       "  beat_num crash_month crash_day_of_week  \\\n",
       "0     2531          10                 2   \n",
       "1      814          10                 2   \n",
       "2     1133          10                 2   \n",
       "3      121          10                 2   \n",
       "4     2535          10                 2   \n",
       "\n",
       "                                            location  \n",
       "0  {'type': 'Point', 'coordinates': [-87.76648206...  \n",
       "1  {'type': 'Point', 'coordinates': [-87.76230729...  \n",
       "2  {'type': 'Point', 'coordinates': [-87.71955940...  \n",
       "3  {'type': 'Point', 'coordinates': [-87.63958775...  \n",
       "4  {'type': 'Point', 'coordinates': [-87.72145164...  "
      ]
     },
     "execution_count": 21,
     "metadata": {},
     "output_type": "execute_result"
    }
   ],
   "source": [
    "crash_df.head()"
   ]
  },
  {
   "cell_type": "code",
   "execution_count": 23,
   "id": "c4de4c9a",
   "metadata": {},
   "outputs": [
    {
     "name": "stderr",
     "output_type": "stream",
     "text": [
      "IOPub data rate exceeded.\n",
      "The Jupyter server will temporarily stop sending output\n",
      "to the client in order to avoid crashing it.\n",
      "To change this limit, set the config variable\n",
      "`--ServerApp.iopub_data_rate_limit`.\n",
      "\n",
      "Current values:\n",
      "ServerApp.iopub_data_rate_limit=1000000.0 (bytes/sec)\n",
      "ServerApp.rate_limit_window=3.0 (secs)\n",
      "\n"
     ]
    }
   ],
   "source": [
    "#Convert crash_df to json\n",
    "crash_json=crash_df.to_json(orient='records')\n",
    "print(crash_json)"
   ]
  },
  {
   "cell_type": "code",
   "execution_count": 33,
   "id": "95e2d641-a867-4bb7-b476-e52b49e24c47",
   "metadata": {},
   "outputs": [
    {
     "ename": "AttributeError",
     "evalue": "'str' object has no attribute 'get'",
     "output_type": "error",
     "traceback": [
      "\u001b[1;31m---------------------------------------------------------------------------\u001b[0m",
      "\u001b[1;31mAttributeError\u001b[0m                            Traceback (most recent call last)",
      "Cell \u001b[1;32mIn[34], line 11\u001b[0m\n\u001b[0;32m      4\u001b[0m     \u001b[38;5;28;01mraise\u001b[39;00m \u001b[38;5;167;01mException\u001b[39;00m(\n\u001b[0;32m      5\u001b[0m         \u001b[38;5;124m\"\u001b[39m\u001b[38;5;124munable to parse usgs api response, no geo-event details found\u001b[39m\u001b[38;5;124m\"\u001b[39m\n\u001b[0;32m      6\u001b[0m     )\n\u001b[0;32m      8\u001b[0m \u001b[38;5;66;03m# There's a lot available! For this example, we'll just parse out a few\u001b[39;00m\n\u001b[0;32m      9\u001b[0m \u001b[38;5;66;03m# fields from the USGS API response:\u001b[39;00m\n\u001b[0;32m     10\u001b[0m data \u001b[38;5;241m=\u001b[39m {\n\u001b[1;32m---> 11\u001b[0m     \u001b[38;5;124m\"\u001b[39m\u001b[38;5;124mid\u001b[39m\u001b[38;5;124m\"\u001b[39m: \u001b[43mdetails\u001b[49m\u001b[38;5;241;43m.\u001b[39;49m\u001b[43mget\u001b[49m(\u001b[38;5;124m\"\u001b[39m\u001b[38;5;124mcrash_record_id\u001b[39m\u001b[38;5;124m\"\u001b[39m, \u001b[38;5;28;01mNone\u001b[39;00m),\n\u001b[0;32m     12\u001b[0m     \u001b[38;5;124m\"\u001b[39m\u001b[38;5;124mdate\u001b[39m\u001b[38;5;124m\"\u001b[39m: details\u001b[38;5;241m.\u001b[39mget(\u001b[38;5;124m\"\u001b[39m\u001b[38;5;124mcrash_date\u001b[39m\u001b[38;5;124m\"\u001b[39m, \u001b[38;5;28;01mNone\u001b[39;00m),\n\u001b[0;32m     13\u001b[0m     \u001b[38;5;124m\"\u001b[39m\u001b[38;5;124mbeat\u001b[39m\u001b[38;5;124m\"\u001b[39m: details\u001b[38;5;241m.\u001b[39mget(\u001b[38;5;124m\"\u001b[39m\u001b[38;5;124mbeat_num\u001b[39m\u001b[38;5;124m\"\u001b[39m, \u001b[38;5;28;01mNone\u001b[39;00m),\n\u001b[0;32m     14\u001b[0m     \u001b[38;5;124m\"\u001b[39m\u001b[38;5;124mmonth\u001b[39m\u001b[38;5;124m\"\u001b[39m: details\u001b[38;5;241m.\u001b[39mget(\u001b[38;5;124m\"\u001b[39m\u001b[38;5;124mcrash_month\u001b[39m\u001b[38;5;124m\"\u001b[39m, \u001b[38;5;28;01mNone\u001b[39;00m),\n\u001b[0;32m     15\u001b[0m     \u001b[38;5;124m\"\u001b[39m\u001b[38;5;124mday\u001b[39m\u001b[38;5;124m\"\u001b[39m: details\u001b[38;5;241m.\u001b[39mget(\u001b[38;5;124m\"\u001b[39m\u001b[38;5;124mcrash_day_of_week\u001b[39m\u001b[38;5;124m\"\u001b[39m, \u001b[38;5;28;01mNone\u001b[39;00m),\n\u001b[0;32m     16\u001b[0m     \u001b[38;5;124m\"\u001b[39m\u001b[38;5;124mlocation\u001b[39m\u001b[38;5;124m\"\u001b[39m: details\u001b[38;5;241m.\u001b[39mget(\u001b[38;5;124m\"\u001b[39m\u001b[38;5;124mlocation\u001b[39m\u001b[38;5;124m\"\u001b[39m, \u001b[38;5;28;01mNone\u001b[39;00m),\n\u001b[0;32m     17\u001b[0m }\n\u001b[0;32m     19\u001b[0m \u001b[38;5;66;03m#yield Event(json.dumps(data).encode(\"utf-8\"), mimetype=self.datatype)\u001b[39;00m\n",
      "\u001b[1;31mAttributeError\u001b[0m: 'str' object has no attribute 'get'"
     ]
    }
   ],
   "source": [
    "for crash in crash_json:\n",
    "    details = crash_json\n",
    "    if details is None:\n",
    "        raise Exception(\n",
    "            \"unable to parse usgs api response, no geo-event details found\"\n",
    "        )\n",
    "\n",
    "    # There's a lot available! For this example, we'll just parse out a few\n",
    "    # fields from the USGS API response:\n",
    "    data = {\n",
    "        \"id\": details.get(\"crash_record_id\", None),\n",
    "        \"date\": details.get(\"crash_date\", None),\n",
    "        \"beat\": details.get(\"beat_num\", None),\n",
    "        \"month\": details.get(\"crash_month\", None),\n",
    "        \"day\": details.get(\"crash_day_of_week\", None),\n",
    "        \"location\": details.get(\"location\", None),\n",
    "    }\n",
    "\n",
    "    #yield Event(json.dumps(data).encode(\"utf-8\"), mimetype=self.datatype)"
   ]
  },
  {
   "cell_type": "code",
   "execution_count": 29,
   "id": "dfd6db4d-e990-4d9e-9343-dcfd7ed34200",
   "metadata": {},
   "outputs": [],
   "source": [
    "client=Ensign(client_id='BHNQsCkeBzrakzwJOUSNTlYqCfebYPGn',client_secret='cqy6VLcAYMz310e9V67NpJAjriw8Y3mwWNLjE0NN3ko7s54Bgfc5TzNjmRJFlLhP')\n",
    "\n",
    "# Parse the response and publish the event\n",
    "data = crash_json\n",
    "event = Event(json.dumps(data).encode(\"utf-8\"))\n",
    "await client.publish('traffic_incidents', event)\n"
   ]
  }
 ],
 "metadata": {
  "kernelspec": {
   "display_name": "Python 3 (ipykernel)",
   "language": "python",
   "name": "python3"
  },
  "language_info": {
   "codemirror_mode": {
    "name": "ipython",
    "version": 3
   },
   "file_extension": ".py",
   "mimetype": "text/x-python",
   "name": "python",
   "nbconvert_exporter": "python",
   "pygments_lexer": "ipython3",
   "version": "3.9.13"
  }
 },
 "nbformat": 4,
 "nbformat_minor": 5
}
