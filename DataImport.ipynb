{
 "cells": [
  {
   "cell_type": "markdown",
   "id": "d7f1bc15-0589-4821-9ed5-1e8d12418a51",
   "metadata": {},
   "source": [
    "# Data Import: City of Chicago Data Portal"
   ]
  },
  {
   "cell_type": "markdown",
   "id": "5b9ec9fa-8c71-4026-8474-d9d318cce394",
   "metadata": {},
   "source": [
    "## Traffic Data: each record is crash event\n",
    "   ### https://data.cityofchicago.org/Transportation/Traffic-Crashes-Crashes/85ca-t3if\n",
    "## Traffic Data: Each record describes person involved in event\n",
    "   ### https://data.cityofchicago.org/Transportation/Traffic-Crashes-People/u6pd-qa9d\n",
    "## Traffic Data: Each Record describs vehicle involved in event\n",
    "   ### https://data.cityofchicago.org/Transportation/Traffic-Crashes-Vehicles/68nd-jvt3"
   ]
  },
  {
   "cell_type": "markdown",
   "id": "994ba05d-a9ed-45d5-a305-5a01c96917b8",
   "metadata": {},
   "source": [
    " "
   ]
  },
  {
   "cell_type": "markdown",
   "id": "0ceaaff7-f61d-42f1-bf10-49bacd826570",
   "metadata": {
    "tags": []
   },
   "source": [
    "### Import Libraries\n",
    "   #### Socrata is libary needed to access Chicago API"
   ]
  },
  {
   "cell_type": "code",
   "execution_count": 2,
   "id": "e2ead8cd-5418-483f-bcf2-62b66ccae28d",
   "metadata": {},
   "outputs": [
    {
     "name": "stdout",
     "output_type": "stream",
     "text": [
      "completed at 2023-10-11 11:40:26.427577\n"
     ]
    }
   ],
   "source": [
    "import pandas as pd\n",
    "import requests\n",
    "import json\n",
    "import time\n",
    "from datetime import datetime\n",
    "from datetime import date\n",
    "from dateutil.relativedelta import relativedelta\n",
    "from sodapy import Socrata\n",
    "from cdp_secrets import token\n",
    "print('completed at ' + str(datetime.now()))"
   ]
  },
  {
   "cell_type": "markdown",
   "id": "f1c39ef2-ce03-41f8-8270-a99550458049",
   "metadata": {},
   "source": [
    "## Chicago Data Portal Connection API Build"
   ]
  },
  {
   "cell_type": "code",
   "execution_count": 3,
   "id": "f1ccb692-579f-4317-bd2c-d9d8fcddd532",
   "metadata": {},
   "outputs": [
    {
     "name": "stdout",
     "output_type": "stream",
     "text": [
      "completed at 2023-10-10 23:41:59.764700\n"
     ]
    }
   ],
   "source": [
    "#Constants\n",
    "chicago_url=\"data.cityofchicago.org\"\n",
    "vehicle_api_root=\"68nd-jvt3\"\n",
    "people_api_root=\"u6pd-qa9d\"\n",
    "crash_api_root=\"85ca-t3if\"\n",
    "district_root=\"z8bn-74gv\"\n",
    "beat_root=\"n9it-hstw\"\n",
    "crime_root=\"ijzp-q8t2\"\n",
    "ca_root=\"igwz-8jzy\"\n",
    "\n",
    "#Chicago Data Portal Connection\n",
    "cdp = Socrata(chicago_url,\n",
    "                 token\n",
    "             )\n",
    "print('completed at ' + str(datetime.now()))"
   ]
  },
  {
   "cell_type": "code",
   "execution_count": 4,
   "id": "36fa7d32-cdb8-4065-ba61-3eb1725db68b",
   "metadata": {},
   "outputs": [
    {
     "name": "stdout",
     "output_type": "stream",
     "text": [
      "completed at 2023-10-10 23:42:01.249202\n"
     ]
    }
   ],
   "source": [
    "def callAPI(root: str, filter: str) -> pd.DataFrame:\n",
    "    results=cdp.get(root, query=filter)\n",
    "    df=pd.DataFrame.from_records(results)\n",
    "    return df\n",
    "print('completed at ' + str(datetime.now()))"
   ]
  },
  {
   "cell_type": "code",
   "execution_count": 5,
   "id": "dc8be3e9-0b0e-4769-adf1-883f66e16289",
   "metadata": {},
   "outputs": [
    {
     "name": "stdout",
     "output_type": "stream",
     "text": [
      "2023-10-10\n",
      "2022-04-10\n",
      "completed at 2023-10-10 23:42:02.940562\n"
     ]
    }
   ],
   "source": [
    "# Get dates for the last 18 months\n",
    "today = datetime.now().strftime(\"%Y-%m-%d\")\n",
    "eighteen_months = (datetime.now() - relativedelta(months=18)).strftime(\"%Y-%m-%d\")\n",
    "\n",
    "print(today)\n",
    "print(eighteen_months)\n",
    "print('completed at ' + str(datetime.now()))"
   ]
  },
  {
   "cell_type": "code",
   "execution_count": 21,
   "id": "cb84b413-23c9-4b8b-963b-ce5bc032b0df",
   "metadata": {},
   "outputs": [
    {
     "name": "stdout",
     "output_type": "stream",
     "text": [
      "completed at 2023-10-10 23:53:28.063831\n"
     ]
    }
   ],
   "source": [
    "#limit required for SoQL query, as we are filtering for one year limit is set high to capture all records\n",
    "limit='1000000000'\n",
    "\n",
    "#Filters use SQL structure, some where clauses use a different format. Refer to API Documentation for correct syntax\n",
    "vehicle_filter= \"\"\"Select crash_record_id,crash_date,make,model,vehicle_type \n",
    "                    where vehicle_type is not null and crash_date between '%s' and '%s'\n",
    "                    limit %s\"\"\"%(eighteen_months,today,limit) \n",
    "\n",
    "people_filter= \"\"\"Select person_id,crash_record_id,crash_date,person_type,age,sex,\n",
    "                injury_classification,pedpedal_action,pedpedal_visibility,pedpedal_location\n",
    "                Where CRASH_DATE between '%s' and '%s' and\n",
    "                (person_type='PEDESTRIAN' or person_type='BICYCLE') limit %s\"\"\"% (eighteen_months,today,limit)\n",
    "\n",
    "crash_filter=\"\"\"Select *\n",
    "                where crash_date between '%s' and '%s' limit %s\"\"\"% (eighteen_months,today,limit)\n",
    "\n",
    "district_filter=\"\"\"Select distinct district,district_name limit 1000\"\"\"\n",
    "\n",
    "beat_filter=\"\"\"Select beat_num,district limit 300\"\"\"\n",
    "\n",
    "ca_filter=\"\"\"Select distinct area_numbe, community\"\"\"\n",
    "\n",
    "crime_filter=\"\"\"Select distinct beat, ward, community_area, district limit %s\"\"\"% (limit)\n",
    "\n",
    "print('completed at ' + str(datetime.now()))"
   ]
  },
  {
   "cell_type": "code",
   "execution_count": 7,
   "id": "d03a79ae-aa2c-4d90-98d0-e0e3d4c284df",
   "metadata": {},
   "outputs": [
    {
     "name": "stdout",
     "output_type": "stream",
     "text": [
      "completed at 2023-10-10 23:42:07.009523\n"
     ]
    }
   ],
   "source": [
    "#People Table\n",
    "people_df=callAPI(people_api_root,people_filter)\n",
    "\n",
    "print('completed at ' + str(datetime.now()))"
   ]
  },
  {
   "cell_type": "code",
   "execution_count": 8,
   "id": "9204f46b-5e11-4fe6-a961-d6611d0c18b5",
   "metadata": {},
   "outputs": [
    {
     "name": "stdout",
     "output_type": "stream",
     "text": [
      "completed at 2023-10-10 23:42:17.050168\n"
     ]
    }
   ],
   "source": [
    "#Vehicle Table\n",
    "vehicle_df=callAPI(vehicle_api_root,vehicle_filter)\n",
    "\n",
    "print('completed at ' + str(datetime.now()))"
   ]
  },
  {
   "cell_type": "code",
   "execution_count": 9,
   "id": "c7ae36ba-3230-47f0-be9d-985483934eb4",
   "metadata": {},
   "outputs": [
    {
     "name": "stdout",
     "output_type": "stream",
     "text": [
      "completed at 2023-10-10 23:42:34.190350\n"
     ]
    }
   ],
   "source": [
    "#Crash Table\n",
    "crash_df=callAPI(crash_api_root,crash_filter)\n",
    "\n",
    "print('completed at ' + str(datetime.now()))"
   ]
  },
  {
   "cell_type": "code",
   "execution_count": 10,
   "id": "98fd13a6-ee11-4c66-8386-d869647ecfab",
   "metadata": {},
   "outputs": [],
   "source": [
    "ca_df=callAPI(ca_root,ca_filter)"
   ]
  },
  {
   "cell_type": "code",
   "execution_count": 13,
   "id": "c01e839b-126c-4e2a-9d8e-c8fab39fc706",
   "metadata": {},
   "outputs": [
    {
     "name": "stdout",
     "output_type": "stream",
     "text": [
      "completed at 2023-10-10 23:43:08.517240\n"
     ]
    }
   ],
   "source": [
    "#crime_table\n",
    "crime_df=callAPI(crime_root,crime_filter)\n",
    "\n",
    "print('completed at ' + str(datetime.now()))"
   ]
  },
  {
   "cell_type": "code",
   "execution_count": 12,
   "id": "22480169-078d-4dad-8003-537a4e1b2c87",
   "metadata": {},
   "outputs": [
    {
     "name": "stdout",
     "output_type": "stream",
     "text": [
      "    beat_num district   district_name\n",
      "0       1713       17     Albany Park\n",
      "1       3100       31             NaN\n",
      "2       1651       16  Jefferson Park\n",
      "3       1914       19       Town Hall\n",
      "4       1915       19       Town Hall\n",
      "..       ...      ...             ...\n",
      "272      314        3  Grand Crossing\n",
      "273      825        8    Chicago Lawn\n",
      "274      313        3  Grand Crossing\n",
      "275      823        8    Chicago Lawn\n",
      "276      312        3  Grand Crossing\n",
      "\n",
      "[277 rows x 3 columns]\n",
      "completed at 2023-10-10 23:42:57.271734\n"
     ]
    }
   ],
   "source": [
    "#Beat To District Key Table\n",
    "#To be Replaced with neighborhood table\n",
    "\n",
    "#Police Beat\n",
    "beat_df=callAPI(beat_root,beat_filter)\n",
    "\n",
    "#Remove leading 0 from district field\n",
    "beat_df['district']=pd.to_numeric(beat_df['district'])\n",
    "beat_df['district']=beat_df['district'].apply(lambda x: str(x))\n",
    "\n",
    "#Remove leading 0 from beat_num field\n",
    "beat_df['beat_num']=pd.to_numeric(beat_df['beat_num'])\n",
    "beat_df['beat_num']=beat_df['beat_num'].apply(lambda x: str(x))\n",
    "\n",
    "#District table\n",
    "district_df=callAPI(district_root,district_filter)\n",
    "\n",
    "#join together to create matching table\n",
    "district_key=pd.merge(beat_df,district_df,on='district',how='left')\n",
    "\n",
    "print(district_key)\n",
    "print('completed at ' + str(datetime.now()))"
   ]
  },
  {
   "cell_type": "code",
   "execution_count": 14,
   "id": "63fc7e6f-6b56-435a-8256-022642487ed1",
   "metadata": {},
   "outputs": [
    {
     "data": {
      "text/html": [
       "<div>\n",
       "<style scoped>\n",
       "    .dataframe tbody tr th:only-of-type {\n",
       "        vertical-align: middle;\n",
       "    }\n",
       "\n",
       "    .dataframe tbody tr th {\n",
       "        vertical-align: top;\n",
       "    }\n",
       "\n",
       "    .dataframe thead th {\n",
       "        text-align: right;\n",
       "    }\n",
       "</style>\n",
       "<table border=\"1\" class=\"dataframe\">\n",
       "  <thead>\n",
       "    <tr style=\"text-align: right;\">\n",
       "      <th></th>\n",
       "      <th>beat</th>\n",
       "      <th>ward</th>\n",
       "      <th>community_area</th>\n",
       "      <th>district_x</th>\n",
       "      <th>beat_num</th>\n",
       "      <th>district_y</th>\n",
       "      <th>district_name</th>\n",
       "      <th>area_numbe</th>\n",
       "      <th>community</th>\n",
       "    </tr>\n",
       "  </thead>\n",
       "  <tbody>\n",
       "    <tr>\n",
       "      <th>0</th>\n",
       "      <td>0431</td>\n",
       "      <td>10</td>\n",
       "      <td>51</td>\n",
       "      <td>004</td>\n",
       "      <td>NaN</td>\n",
       "      <td>NaN</td>\n",
       "      <td>NaN</td>\n",
       "      <td>51</td>\n",
       "      <td>SOUTH DEERING</td>\n",
       "    </tr>\n",
       "    <tr>\n",
       "      <th>1</th>\n",
       "      <td>1631</td>\n",
       "      <td>36</td>\n",
       "      <td>17</td>\n",
       "      <td>031</td>\n",
       "      <td>1631</td>\n",
       "      <td>16</td>\n",
       "      <td>Jefferson Park</td>\n",
       "      <td>17</td>\n",
       "      <td>DUNNING</td>\n",
       "    </tr>\n",
       "    <tr>\n",
       "      <th>2</th>\n",
       "      <td>1611</td>\n",
       "      <td>39</td>\n",
       "      <td>10</td>\n",
       "      <td>016</td>\n",
       "      <td>1611</td>\n",
       "      <td>16</td>\n",
       "      <td>Jefferson Park</td>\n",
       "      <td>10</td>\n",
       "      <td>NORWOOD PARK</td>\n",
       "    </tr>\n",
       "    <tr>\n",
       "      <th>3</th>\n",
       "      <td>0312</td>\n",
       "      <td>NaN</td>\n",
       "      <td>NaN</td>\n",
       "      <td>003</td>\n",
       "      <td>NaN</td>\n",
       "      <td>NaN</td>\n",
       "      <td>NaN</td>\n",
       "      <td>NaN</td>\n",
       "      <td>NaN</td>\n",
       "    </tr>\n",
       "    <tr>\n",
       "      <th>4</th>\n",
       "      <td>0532</td>\n",
       "      <td>10</td>\n",
       "      <td>54</td>\n",
       "      <td>005</td>\n",
       "      <td>NaN</td>\n",
       "      <td>NaN</td>\n",
       "      <td>NaN</td>\n",
       "      <td>54</td>\n",
       "      <td>RIVERDALE</td>\n",
       "    </tr>\n",
       "    <tr>\n",
       "      <th>...</th>\n",
       "      <td>...</td>\n",
       "      <td>...</td>\n",
       "      <td>...</td>\n",
       "      <td>...</td>\n",
       "      <td>...</td>\n",
       "      <td>...</td>\n",
       "      <td>...</td>\n",
       "      <td>...</td>\n",
       "      <td>...</td>\n",
       "    </tr>\n",
       "    <tr>\n",
       "      <th>2405</th>\n",
       "      <td>2132</td>\n",
       "      <td>4</td>\n",
       "      <td>39</td>\n",
       "      <td>002</td>\n",
       "      <td>NaN</td>\n",
       "      <td>NaN</td>\n",
       "      <td>NaN</td>\n",
       "      <td>39</td>\n",
       "      <td>KENWOOD</td>\n",
       "    </tr>\n",
       "    <tr>\n",
       "      <th>2406</th>\n",
       "      <td>1414</td>\n",
       "      <td>35</td>\n",
       "      <td>NaN</td>\n",
       "      <td>014</td>\n",
       "      <td>1414</td>\n",
       "      <td>14</td>\n",
       "      <td>Shakespeare</td>\n",
       "      <td>NaN</td>\n",
       "      <td>NaN</td>\n",
       "    </tr>\n",
       "    <tr>\n",
       "      <th>2407</th>\n",
       "      <td>0332</td>\n",
       "      <td>NaN</td>\n",
       "      <td>NaN</td>\n",
       "      <td>003</td>\n",
       "      <td>NaN</td>\n",
       "      <td>NaN</td>\n",
       "      <td>NaN</td>\n",
       "      <td>NaN</td>\n",
       "      <td>NaN</td>\n",
       "    </tr>\n",
       "    <tr>\n",
       "      <th>2408</th>\n",
       "      <td>1412</td>\n",
       "      <td>NaN</td>\n",
       "      <td>NaN</td>\n",
       "      <td>014</td>\n",
       "      <td>1412</td>\n",
       "      <td>14</td>\n",
       "      <td>Shakespeare</td>\n",
       "      <td>NaN</td>\n",
       "      <td>NaN</td>\n",
       "    </tr>\n",
       "    <tr>\n",
       "      <th>2409</th>\n",
       "      <td>0331</td>\n",
       "      <td>NaN</td>\n",
       "      <td>NaN</td>\n",
       "      <td>007</td>\n",
       "      <td>NaN</td>\n",
       "      <td>NaN</td>\n",
       "      <td>NaN</td>\n",
       "      <td>NaN</td>\n",
       "      <td>NaN</td>\n",
       "    </tr>\n",
       "  </tbody>\n",
       "</table>\n",
       "<p>2410 rows × 9 columns</p>\n",
       "</div>"
      ],
      "text/plain": [
       "      beat ward community_area district_x beat_num district_y   district_name  \\\n",
       "0     0431   10             51        004      NaN        NaN             NaN   \n",
       "1     1631   36             17        031     1631         16  Jefferson Park   \n",
       "2     1611   39             10        016     1611         16  Jefferson Park   \n",
       "3     0312  NaN            NaN        003      NaN        NaN             NaN   \n",
       "4     0532   10             54        005      NaN        NaN             NaN   \n",
       "...    ...  ...            ...        ...      ...        ...             ...   \n",
       "2405  2132    4             39        002      NaN        NaN             NaN   \n",
       "2406  1414   35            NaN        014     1414         14     Shakespeare   \n",
       "2407  0332  NaN            NaN        003      NaN        NaN             NaN   \n",
       "2408  1412  NaN            NaN        014     1412         14     Shakespeare   \n",
       "2409  0331  NaN            NaN        007      NaN        NaN             NaN   \n",
       "\n",
       "     area_numbe      community  \n",
       "0            51  SOUTH DEERING  \n",
       "1            17        DUNNING  \n",
       "2            10   NORWOOD PARK  \n",
       "3           NaN            NaN  \n",
       "4            54      RIVERDALE  \n",
       "...         ...            ...  \n",
       "2405         39        KENWOOD  \n",
       "2406        NaN            NaN  \n",
       "2407        NaN            NaN  \n",
       "2408        NaN            NaN  \n",
       "2409        NaN            NaN  \n",
       "\n",
       "[2410 rows x 9 columns]"
      ]
     },
     "execution_count": 14,
     "metadata": {},
     "output_type": "execute_result"
    }
   ],
   "source": [
    "df = pd.merge(crime_df, district_key, left_on='beat', right_on='beat_num', how='left')\n",
    "df= pd.merge(df,ca_df, left_on='community_area',right_on='area_numbe', how='left')\n",
    "ca_beat_key=df\n",
    "ca_beat_key"
   ]
  },
  {
   "cell_type": "code",
   "execution_count": 19,
   "id": "a8ac72e5-09b5-4ed1-8f06-4f2301515bc1",
   "metadata": {},
   "outputs": [
    {
     "name": "stdout",
     "output_type": "stream",
     "text": [
      "Model Field List \n",
      "\n",
      "1.person_id\n",
      "2.crash_record_id\n",
      "3.crash_date_x\n",
      "4.person_type\n",
      "5.sex\n",
      "6.injury_classification\n",
      "7.pedpedal_action\n",
      "8.pedpedal_visibility\n",
      "9.pedpedal_location\n",
      "10.age\n",
      "11.make\n",
      "12.model\n",
      "13.vehicle_type\n",
      "14.crash_date_y\n",
      "15.posted_speed_limit\n",
      "16.traffic_control_device\n",
      "17.device_condition\n",
      "18.weather_condition\n",
      "19.lighting_condition\n",
      "20.first_crash_type\n",
      "21.trafficway_type\n",
      "22.alignment\n",
      "23.roadway_surface_cond\n",
      "24.road_defect\n",
      "25.report_type\n",
      "26.crash_type\n",
      "27.damage\n",
      "28.date_police_notified\n",
      "29.prim_contributory_cause\n",
      "30.sec_contributory_cause\n",
      "31.street_no\n",
      "32.street_direction\n",
      "33.street_name\n",
      "34.beat_of_occurrence\n",
      "35.num_units\n",
      "36.most_severe_injury\n",
      "37.injuries_total\n",
      "38.injuries_fatal\n",
      "39.injuries_incapacitating\n",
      "40.injuries_non_incapacitating\n",
      "41.injuries_reported_not_evident\n",
      "42.injuries_no_indication\n",
      "43.injuries_unknown\n",
      "44.crash_hour\n",
      "45.crash_day_of_week\n",
      "46.crash_month\n",
      "47.latitude\n",
      "48.longitude\n",
      "49.location\n",
      "50.intersection_related_i\n",
      "51.crash_date_est_i\n",
      "52.hit_and_run_i\n",
      "53.private_property_i\n",
      "54.photos_taken_i\n",
      "55.statements_taken_i\n",
      "56.work_zone_i\n",
      "57.work_zone_type\n",
      "58.dooring_i\n",
      "59.workers_present_i\n",
      "60.lane_cnt\n",
      "61.rd_no\n",
      "62.beat_num_x\n",
      "63.district\n",
      "64.district_name_x\n",
      "65.beat\n",
      "66.ward\n",
      "67.community_area\n",
      "68.district_x\n",
      "69.beat_num_y\n",
      "70.district_y\n",
      "71.district_name_y\n",
      "72.area_numbe\n",
      "73.community\n",
      "completed at 2023-10-10 23:45:59.206069\n"
     ]
    }
   ],
   "source": [
    "\n",
    "#Join People and Vehicle data sets on crash_record_id\n",
    "people_vehicle=pd.merge(people_df,vehicle_df[['crash_record_id','make','model','vehicle_type']], on='crash_record_id', how='left')\n",
    "#print(people_vehicle)\n",
    "\n",
    "#Join prior dataset with crash information\n",
    "crash_pv=pd.merge(people_vehicle,crash_df, on='crash_record_id', how='left')\n",
    "#print(crash_pv)\n",
    "\n",
    "#Join prior dataset with district ID and Name\n",
    "#merge_df=pd.merge(crash_pv,district_key, on='beat_num', how='left')\n",
    "merge_df1 = pd.merge(crash_pv, district_key, left_on='beat_of_occurrence', right_on='beat_num', how='left')\n",
    "#Add Neighborhood Name\n",
    "merger_df1=pd.merge(merge_df,ca_beat_key, left_on='beat_of_occurrence',right_on='beat',how='left')\n",
    "#Declare final data model\n",
    "model=merger_df1\n",
    "\n",
    "\n",
    "#print(model)\n",
    "print(\"Model Field List \\n\")\n",
    "n=1\n",
    "for fields in model.columns:\n",
    "    print(str(n)+'.'+fields)\n",
    "    n+=1\n",
    "\n",
    "print('completed at ' + str(datetime.now()))"
   ]
  },
  {
   "cell_type": "code",
   "execution_count": 20,
   "id": "2518e28c-7f3a-4ab2-b4bd-ca94f87917c9",
   "metadata": {},
   "outputs": [
    {
     "name": "stdout",
     "output_type": "stream",
     "text": [
      "completed at 2023-10-10 23:47:13.520036\n"
     ]
    }
   ],
   "source": [
    "model\n",
    "model.to_excel('pedestrian_incidents.xlsx',index=True)\n",
    "print('completed at '+str(datetime.now()))"
   ]
  }
 ],
 "metadata": {
  "kernelspec": {
   "display_name": "Python 3 (ipykernel)",
   "language": "python",
   "name": "python3"
  },
  "language_info": {
   "codemirror_mode": {
    "name": "ipython",
    "version": 3
   },
   "file_extension": ".py",
   "mimetype": "text/x-python",
   "name": "python",
   "nbconvert_exporter": "python",
   "pygments_lexer": "ipython3",
   "version": "3.9.13"
  }
 },
 "nbformat": 4,
 "nbformat_minor": 5
}
