{
 "cells": [
  {
   "cell_type": "code",
   "execution_count": 1,
   "id": "312a51da-3e07-4682-a681-314059a13581",
   "metadata": {},
   "outputs": [
    {
     "name": "stdout",
     "output_type": "stream",
     "text": [
      "completed at 2023-10-10 23:17:51.250644\n"
     ]
    }
   ],
   "source": [
    "import pandas as pd\n",
    "import requests\n",
    "import json\n",
    "import time\n",
    "from datetime import datetime\n",
    "from datetime import date\n",
    "from dateutil.relativedelta import relativedelta\n",
    "from sodapy import Socrata\n",
    "from cdp_secrets import token\n",
    "print('completed at ' + str(datetime.now()))"
   ]
  },
  {
   "cell_type": "code",
   "execution_count": 27,
   "id": "cbe8d2d2-3d44-4990-a048-d6e5d41fed63",
   "metadata": {},
   "outputs": [
    {
     "name": "stdout",
     "output_type": "stream",
     "text": [
      "completed at 2023-10-10 23:29:53.456664\n"
     ]
    }
   ],
   "source": [
    "#Constants\n",
    "chicago_url=\"data.cityofchicago.org\"\n",
    "crime_root=\"ijzp-q8t2\"\n",
    "district_root=\"z8bn-74gv\"\n",
    "beat_root=\"n9it-hstw\"\n",
    "ca_root=\"igwz-8jzy\"\n",
    "\n",
    "#Chicago Data Portal Connection\n",
    "cdp = Socrata(chicago_url,\n",
    "                 token\n",
    "             )\n",
    "print('completed at ' + str(datetime.now()))"
   ]
  },
  {
   "cell_type": "code",
   "execution_count": 5,
   "id": "3e704ae9-0768-44c8-bf06-926203c74b73",
   "metadata": {},
   "outputs": [],
   "source": [
    "def callAPI(root: str, filter: str) -> pd.DataFrame:\n",
    "    results=cdp.get(root, query=filter)\n",
    "    df=pd.DataFrame.from_records(results)\n",
    "    return df\n",
    "#print('completed at ' + str(datetime.now())"
   ]
  },
  {
   "cell_type": "code",
   "execution_count": 6,
   "id": "506c2fbd-b750-4ca6-a461-f5a8474e079d",
   "metadata": {},
   "outputs": [
    {
     "name": "stdout",
     "output_type": "stream",
     "text": [
      "2023-10-10\n",
      "2022-04-10\n",
      "completed at 2023-10-10 23:18:21.825634\n"
     ]
    }
   ],
   "source": [
    "# Get dates for the last 18 months\n",
    "today = datetime.now().strftime(\"%Y-%m-%d\")\n",
    "eighteen_months = (datetime.now() - relativedelta(months=18)).strftime(\"%Y-%m-%d\")\n",
    "\n",
    "print(today)\n",
    "print(eighteen_months)\n",
    "print('completed at ' + str(datetime.now()))"
   ]
  },
  {
   "cell_type": "code",
   "execution_count": 31,
   "id": "5d36d14c-955b-44f4-9189-6aa506a90d8a",
   "metadata": {},
   "outputs": [
    {
     "name": "stdout",
     "output_type": "stream",
     "text": [
      "completed at 2023-10-10 23:32:15.321794\n"
     ]
    }
   ],
   "source": [
    "#limit required for SoQL query, as we are filtering for one year limit is set high to capture all records\n",
    "limit='1000000000'\n",
    "\n",
    "#Filters use SQL structure, some where clauses use a different format. Refer to API Documentation for correct syntax\n",
    "\n",
    "crime_filter=\"\"\"Select distinct beat, ward, community_area, district limit %s\"\"\"% (limit)\n",
    "\n",
    "district_filter=\"\"\"Select distinct district,district_name limit 1000\"\"\"\n",
    "\n",
    "beat_filter=\"\"\"Select beat_num,district limit 300\"\"\"\n",
    "\n",
    "ca_filter=\"\"\"Select area_numbe, community\"\"\"\n",
    "\n",
    "print('completed at ' + str(datetime.now()))"
   ]
  },
  {
   "cell_type": "code",
   "execution_count": 24,
   "id": "44225b20-0234-4092-9581-f34d130ee386",
   "metadata": {},
   "outputs": [
    {
     "name": "stdout",
     "output_type": "stream",
     "text": [
      "completed at 2023-10-10 23:22:49.397630\n"
     ]
    }
   ],
   "source": [
    "#crime_table\n",
    "crime_df=callAPI(crime_root,crime_filter)\n",
    "\n",
    "print('completed at ' + str(datetime.now()))"
   ]
  },
  {
   "cell_type": "code",
   "execution_count": 32,
   "id": "0765968e-8f8b-40c4-a818-7554be49a1e1",
   "metadata": {},
   "outputs": [],
   "source": [
    "ca_df=callAPI(ca_root,ca_filter)"
   ]
  },
  {
   "cell_type": "code",
   "execution_count": 8,
   "id": "4973a5e7-ad11-4fd5-9ade-bf836ebb1be3",
   "metadata": {},
   "outputs": [
    {
     "name": "stdout",
     "output_type": "stream",
     "text": [
      "    beat_num district   district_name\n",
      "0       1713       17     Albany Park\n",
      "1       3100       31             NaN\n",
      "2       1651       16  Jefferson Park\n",
      "3       1914       19       Town Hall\n",
      "4       1915       19       Town Hall\n",
      "..       ...      ...             ...\n",
      "272      314        3  Grand Crossing\n",
      "273      825        8    Chicago Lawn\n",
      "274      313        3  Grand Crossing\n",
      "275      823        8    Chicago Lawn\n",
      "276      312        3  Grand Crossing\n",
      "\n",
      "[277 rows x 3 columns]\n",
      "completed at 2023-10-10 23:18:28.172676\n"
     ]
    }
   ],
   "source": [
    "#Beat To District Key Table\n",
    "#To be Replaced with neighborhood table\n",
    "\n",
    "#Police Beat\n",
    "beat_df=callAPI(beat_root,beat_filter)\n",
    "\n",
    "#Remove leading 0 from district field\n",
    "beat_df['district']=pd.to_numeric(beat_df['district'])\n",
    "beat_df['district']=beat_df['district'].apply(lambda x: str(x))\n",
    "\n",
    "#Remove leading 0 from beat_num field\n",
    "beat_df['beat_num']=pd.to_numeric(beat_df['beat_num'])\n",
    "beat_df['beat_num']=beat_df['beat_num'].apply(lambda x: str(x))\n",
    "\n",
    "#District table\n",
    "district_df=callAPI(district_root,district_filter)\n",
    "\n",
    "#join together to create matching table\n",
    "district_key=pd.merge(beat_df,district_df,on='district',how='left')\n",
    "\n",
    "print(district_key)\n",
    "print('completed at ' + str(datetime.now()))"
   ]
  },
  {
   "cell_type": "code",
   "execution_count": 37,
   "id": "99946558-9260-42c2-ad76-4f87b1bb82e0",
   "metadata": {},
   "outputs": [
    {
     "data": {
      "text/html": [
       "<div>\n",
       "<style scoped>\n",
       "    .dataframe tbody tr th:only-of-type {\n",
       "        vertical-align: middle;\n",
       "    }\n",
       "\n",
       "    .dataframe tbody tr th {\n",
       "        vertical-align: top;\n",
       "    }\n",
       "\n",
       "    .dataframe thead th {\n",
       "        text-align: right;\n",
       "    }\n",
       "</style>\n",
       "<table border=\"1\" class=\"dataframe\">\n",
       "  <thead>\n",
       "    <tr style=\"text-align: right;\">\n",
       "      <th></th>\n",
       "      <th>beat</th>\n",
       "      <th>ward</th>\n",
       "      <th>community_area</th>\n",
       "      <th>district_x</th>\n",
       "      <th>beat_num</th>\n",
       "      <th>district_y</th>\n",
       "      <th>district_name</th>\n",
       "      <th>area_numbe</th>\n",
       "      <th>community</th>\n",
       "    </tr>\n",
       "  </thead>\n",
       "  <tbody>\n",
       "    <tr>\n",
       "      <th>0</th>\n",
       "      <td>0431</td>\n",
       "      <td>10</td>\n",
       "      <td>51</td>\n",
       "      <td>004</td>\n",
       "      <td>NaN</td>\n",
       "      <td>NaN</td>\n",
       "      <td>NaN</td>\n",
       "      <td>51</td>\n",
       "      <td>SOUTH DEERING</td>\n",
       "    </tr>\n",
       "    <tr>\n",
       "      <th>1</th>\n",
       "      <td>1631</td>\n",
       "      <td>36</td>\n",
       "      <td>17</td>\n",
       "      <td>031</td>\n",
       "      <td>1631</td>\n",
       "      <td>16</td>\n",
       "      <td>Jefferson Park</td>\n",
       "      <td>17</td>\n",
       "      <td>DUNNING</td>\n",
       "    </tr>\n",
       "    <tr>\n",
       "      <th>2</th>\n",
       "      <td>1611</td>\n",
       "      <td>39</td>\n",
       "      <td>10</td>\n",
       "      <td>016</td>\n",
       "      <td>1611</td>\n",
       "      <td>16</td>\n",
       "      <td>Jefferson Park</td>\n",
       "      <td>10</td>\n",
       "      <td>NORWOOD PARK</td>\n",
       "    </tr>\n",
       "    <tr>\n",
       "      <th>3</th>\n",
       "      <td>0312</td>\n",
       "      <td>NaN</td>\n",
       "      <td>NaN</td>\n",
       "      <td>003</td>\n",
       "      <td>NaN</td>\n",
       "      <td>NaN</td>\n",
       "      <td>NaN</td>\n",
       "      <td>NaN</td>\n",
       "      <td>NaN</td>\n",
       "    </tr>\n",
       "    <tr>\n",
       "      <th>4</th>\n",
       "      <td>0532</td>\n",
       "      <td>10</td>\n",
       "      <td>54</td>\n",
       "      <td>005</td>\n",
       "      <td>NaN</td>\n",
       "      <td>NaN</td>\n",
       "      <td>NaN</td>\n",
       "      <td>54</td>\n",
       "      <td>RIVERDALE</td>\n",
       "    </tr>\n",
       "    <tr>\n",
       "      <th>...</th>\n",
       "      <td>...</td>\n",
       "      <td>...</td>\n",
       "      <td>...</td>\n",
       "      <td>...</td>\n",
       "      <td>...</td>\n",
       "      <td>...</td>\n",
       "      <td>...</td>\n",
       "      <td>...</td>\n",
       "      <td>...</td>\n",
       "    </tr>\n",
       "    <tr>\n",
       "      <th>2405</th>\n",
       "      <td>2132</td>\n",
       "      <td>4</td>\n",
       "      <td>39</td>\n",
       "      <td>002</td>\n",
       "      <td>NaN</td>\n",
       "      <td>NaN</td>\n",
       "      <td>NaN</td>\n",
       "      <td>39</td>\n",
       "      <td>KENWOOD</td>\n",
       "    </tr>\n",
       "    <tr>\n",
       "      <th>2406</th>\n",
       "      <td>1414</td>\n",
       "      <td>35</td>\n",
       "      <td>NaN</td>\n",
       "      <td>014</td>\n",
       "      <td>1414</td>\n",
       "      <td>14</td>\n",
       "      <td>Shakespeare</td>\n",
       "      <td>NaN</td>\n",
       "      <td>NaN</td>\n",
       "    </tr>\n",
       "    <tr>\n",
       "      <th>2407</th>\n",
       "      <td>0332</td>\n",
       "      <td>NaN</td>\n",
       "      <td>NaN</td>\n",
       "      <td>003</td>\n",
       "      <td>NaN</td>\n",
       "      <td>NaN</td>\n",
       "      <td>NaN</td>\n",
       "      <td>NaN</td>\n",
       "      <td>NaN</td>\n",
       "    </tr>\n",
       "    <tr>\n",
       "      <th>2408</th>\n",
       "      <td>1412</td>\n",
       "      <td>NaN</td>\n",
       "      <td>NaN</td>\n",
       "      <td>014</td>\n",
       "      <td>1412</td>\n",
       "      <td>14</td>\n",
       "      <td>Shakespeare</td>\n",
       "      <td>NaN</td>\n",
       "      <td>NaN</td>\n",
       "    </tr>\n",
       "    <tr>\n",
       "      <th>2409</th>\n",
       "      <td>0331</td>\n",
       "      <td>NaN</td>\n",
       "      <td>NaN</td>\n",
       "      <td>007</td>\n",
       "      <td>NaN</td>\n",
       "      <td>NaN</td>\n",
       "      <td>NaN</td>\n",
       "      <td>NaN</td>\n",
       "      <td>NaN</td>\n",
       "    </tr>\n",
       "  </tbody>\n",
       "</table>\n",
       "<p>2410 rows × 9 columns</p>\n",
       "</div>"
      ],
      "text/plain": [
       "      beat ward community_area district_x beat_num district_y   district_name  \\\n",
       "0     0431   10             51        004      NaN        NaN             NaN   \n",
       "1     1631   36             17        031     1631         16  Jefferson Park   \n",
       "2     1611   39             10        016     1611         16  Jefferson Park   \n",
       "3     0312  NaN            NaN        003      NaN        NaN             NaN   \n",
       "4     0532   10             54        005      NaN        NaN             NaN   \n",
       "...    ...  ...            ...        ...      ...        ...             ...   \n",
       "2405  2132    4             39        002      NaN        NaN             NaN   \n",
       "2406  1414   35            NaN        014     1414         14     Shakespeare   \n",
       "2407  0332  NaN            NaN        003      NaN        NaN             NaN   \n",
       "2408  1412  NaN            NaN        014     1412         14     Shakespeare   \n",
       "2409  0331  NaN            NaN        007      NaN        NaN             NaN   \n",
       "\n",
       "     area_numbe      community  \n",
       "0            51  SOUTH DEERING  \n",
       "1            17        DUNNING  \n",
       "2            10   NORWOOD PARK  \n",
       "3           NaN            NaN  \n",
       "4            54      RIVERDALE  \n",
       "...         ...            ...  \n",
       "2405         39        KENWOOD  \n",
       "2406        NaN            NaN  \n",
       "2407        NaN            NaN  \n",
       "2408        NaN            NaN  \n",
       "2409        NaN            NaN  \n",
       "\n",
       "[2410 rows x 9 columns]"
      ]
     },
     "execution_count": 37,
     "metadata": {},
     "output_type": "execute_result"
    }
   ],
   "source": [
    "df = pd.merge(crime_df, district_key, left_on='beat', right_on='beat_num', how='left')\n",
    "df= pd.merge(df,ca_df, left_on='community_area',right_on='area_numbe', how='left')\n",
    "ca_beat_key=df\n",
    "ca_beat_key"
   ]
  }
 ],
 "metadata": {
  "kernelspec": {
   "display_name": "Python 3 (ipykernel)",
   "language": "python",
   "name": "python3"
  },
  "language_info": {
   "codemirror_mode": {
    "name": "ipython",
    "version": 3
   },
   "file_extension": ".py",
   "mimetype": "text/x-python",
   "name": "python",
   "nbconvert_exporter": "python",
   "pygments_lexer": "ipython3",
   "version": "3.9.12"
  }
 },
 "nbformat": 4,
 "nbformat_minor": 5
}
